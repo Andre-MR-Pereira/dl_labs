{
 "cells": [
  {
   "cell_type": "markdown",
   "id": "0f4fe82d",
   "metadata": {},
   "source": [
    "# Import Libraries"
   ]
  },
  {
   "cell_type": "code",
   "execution_count": 37,
   "id": "8a2ac5a1",
   "metadata": {},
   "outputs": [],
   "source": [
    "import numpy as np"
   ]
  },
  {
   "cell_type": "markdown",
   "id": "eced847d",
   "metadata": {},
   "source": [
    "# Problem 1\n",
    "### Variable initialization"
   ]
  },
  {
   "cell_type": "code",
   "execution_count": 35,
   "id": "b01d71de",
   "metadata": {},
   "outputs": [],
   "source": [
    "x=[{\"x\": -1,\"y\": 0},{\"x\": 0,\"y\": 0.25},{\"x\": 1,\"y\": 1},{\"x\": 1,\"y\": -1}]\n",
    "y=[-1,1,1,-1]\n",
    "w_old=[0,0,0,0]\n",
    "w_new=[0,0,0,0]\n",
    "k=0\n",
    "b=0\n",
    "phi=1\n",
    "epoch=0\n",
    "convergence=False"
   ]
  },
  {
   "cell_type": "code",
   "execution_count": 38,
   "id": "4310348e",
   "metadata": {},
   "outputs": [],
   "source": [
    "while convergence==False:\n",
    "    for i in range(len(y)):\n",
    "        pred=np.sign(phi*w_old[i])\n",
    "        if pred!=y[i]:\n",
    "            w_new[i]=w_old[i]+y[i]*phi\n",
    "            k+=1\n",
    "    epoch+=1\n",
    "    convergence = True\n",
    "    for i in range(len(y)):\n",
    "        if w_old[i]!=w_new[i]:\n",
    "            convergence=False\n",
    "        w_old[i]=w_new[i]\n",
    "    "
   ]
  },
  {
   "cell_type": "code",
   "execution_count": 39,
   "id": "0b77d1c1",
   "metadata": {},
   "outputs": [
    {
     "name": "stdout",
     "output_type": "stream",
     "text": [
      "2 [-1, 1, 1, -1]\n"
     ]
    }
   ],
   "source": [
    "print(epoch,w_new)"
   ]
  },
  {
   "cell_type": "code",
   "execution_count": null,
   "id": "a851484d",
   "metadata": {},
   "outputs": [],
   "source": []
  }
 ],
 "metadata": {
  "kernelspec": {
   "display_name": "Python [conda env:Aprof] *",
   "language": "python",
   "name": "conda-env-Aprof-py"
  },
  "language_info": {
   "codemirror_mode": {
    "name": "ipython",
    "version": 3
   },
   "file_extension": ".py",
   "mimetype": "text/x-python",
   "name": "python",
   "nbconvert_exporter": "python",
   "pygments_lexer": "ipython3",
   "version": "3.8.12"
  }
 },
 "nbformat": 4,
 "nbformat_minor": 5
}
