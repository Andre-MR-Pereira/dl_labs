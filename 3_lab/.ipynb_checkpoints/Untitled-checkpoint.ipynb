{
 "cells": [
  {
   "cell_type": "markdown",
   "id": "c6f54bf9",
   "metadata": {},
   "source": [
    "# Import Libraries"
   ]
  },
  {
   "cell_type": "code",
   "execution_count": 1,
   "id": "82859413",
   "metadata": {},
   "outputs": [],
   "source": [
    "import numpy as np\n",
    "import matplotlib.pyplot as plt"
   ]
  },
  {
   "cell_type": "code",
   "execution_count": 2,
   "id": "c8995240",
   "metadata": {},
   "outputs": [],
   "source": [
    "def plot_hyperplane_2d(ax,w):\n",
    "    x=np.linspace(2,13)"
   ]
  },
  {
   "cell_type": "markdown",
   "id": "fb871b96",
   "metadata": {},
   "source": [
    "### P1.1"
   ]
  },
  {
   "cell_type": "code",
   "execution_count": 3,
   "id": "0f0cd466",
   "metadata": {},
   "outputs": [
    {
     "name": "stdout",
     "output_type": "stream",
     "text": [
      "[[ 1 -2]\n",
      " [ 1 -1]\n",
      " [ 1  0]\n",
      " [ 1  2]] \n",
      "\n",
      " [ 2  3  1 -1]\n"
     ]
    }
   ],
   "source": [
    "X=np.array([[1 , -2] , [1 , -1] , [1 , 0] , [1 , 2]])\n",
    "Y=np.array([2 , 3 , 1 , -1])\n",
    "print(X,\"\\n\\n\",Y)"
   ]
  },
  {
   "cell_type": "code",
   "execution_count": 4,
   "id": "b969104e",
   "metadata": {},
   "outputs": [
    {
     "name": "stdout",
     "output_type": "stream",
     "text": [
      "[ 1.02857143 -0.88571429]\n"
     ]
    }
   ],
   "source": [
    "w= np.matmul(np.matmul(np.linalg.inv(np.matmul(X.T,X)),X.T),Y.T)\n",
    "print(w)"
   ]
  },
  {
   "cell_type": "markdown",
   "id": "27272c5b",
   "metadata": {},
   "source": [
    "### P1.2"
   ]
  },
  {
   "cell_type": "code",
   "execution_count": 5,
   "id": "7a2ec877",
   "metadata": {},
   "outputs": [
    {
     "name": "stdout",
     "output_type": "stream",
     "text": [
      "[1 1]\n",
      "0.1428571428571429\n"
     ]
    }
   ],
   "source": [
    "entry=np.array([1 , 1])\n",
    "print(entry)\n",
    "prediction=np.dot(w,entry)\n",
    "print(prediction)"
   ]
  },
  {
   "cell_type": "markdown",
   "id": "4d362e2a",
   "metadata": {},
   "source": [
    "### P1.3"
   ]
  },
  {
   "cell_type": "code",
   "execution_count": 6,
   "id": "2a1911df",
   "metadata": {},
   "outputs": [],
   "source": [
    "# Plot hyperplane 2d.\n",
    "def plot_hyperplane_2d(w):\n",
    "    x = np.linspace(-3, 3, 10)\n",
    "    plt.plot(x, w[0] + w[1]*x, 'b-')"
   ]
  },
  {
   "cell_type": "code",
   "execution_count": 7,
   "id": "41554abd",
   "metadata": {},
   "outputs": [
    {
     "data": {
      "image/png": "[encoded data removed]",
      "text/plain": [
       "<Figure size 432x288 with 1 Axes>"
      ]
     },
     "metadata": {
      "needs_background": "light"
     },
     "output_type": "display_data"
    }
   ],
   "source": [
    "plt.plot(X[:,1], Y, 'r.')\n",
    "plot_hyperplane_2d(w)"
   ]
  },
  {
   "cell_type": "markdown",
   "id": "cb5dde5f",
   "metadata": {},
   "source": [
    "### P1.4"
   ]
  },
  {
   "cell_type": "code",
   "execution_count": 8,
   "id": "d411a923",
   "metadata": {},
   "outputs": [
    {
     "name": "stdout",
     "output_type": "stream",
     "text": [
      "0.4714285714285715\n"
     ]
    }
   ],
   "source": [
    "SSE = []\n",
    "for i in range(4):\n",
    "    SSE.append((Y[i]-w.dot(X[i,:]))**2)\n",
    "print(np.sum(SSE)/4)"
   ]
  },
  {
   "cell_type": "markdown",
   "id": "12ab8394",
   "metadata": {},
   "source": [
    "### P2.1"
   ]
  },
  {
   "cell_type": "code",
   "execution_count": 9,
   "id": "4e0efef7",
   "metadata": {},
   "outputs": [
    {
     "name": "stdout",
     "output_type": "stream",
     "text": [
      "[[1 1 1]\n",
      " [1 2 1]\n",
      " [1 1 3]\n",
      " [1 3 3]] \n",
      "\n",
      " [1.4 0.5 2.  2.5]\n"
     ]
    }
   ],
   "source": [
    "X=np.array([[1 , 1 , 1] , [1 , 2 , 1] , [1 , 1 , 3] , [1 , 3 , 3]])\n",
    "Y=np.array([1.4 , 0.5 , 2.0 , 2.5])\n",
    "print(X,\"\\n\\n\",Y)"
   ]
  },
  {
   "cell_type": "code",
   "execution_count": 10,
   "id": "451a5c48",
   "metadata": {},
   "outputs": [
    {
     "name": "stdout",
     "output_type": "stream",
     "text": [
      "[0.275 0.02  0.645]\n"
     ]
    }
   ],
   "source": [
    "w= np.matmul(np.matmul(np.linalg.inv(np.matmul(X.T,X)),X.T),Y)\n",
    "print(w)"
   ]
  },
  {
   "cell_type": "markdown",
   "id": "e6f35815",
   "metadata": {},
   "source": [
    "### P2.2"
   ]
  },
  {
   "cell_type": "code",
   "execution_count": 11,
   "id": "c7f5280b",
   "metadata": {},
   "outputs": [
    {
     "name": "stdout",
     "output_type": "stream",
     "text": [
      "2.2500000000000018\n"
     ]
    }
   ],
   "source": [
    "entry=np.array([1,2,3])\n",
    "prediction=np.dot(w,entry)\n",
    "print(prediction)"
   ]
  },
  {
   "cell_type": "markdown",
   "id": "6cc74722",
   "metadata": {},
   "source": [
    "### P2.3"
   ]
  },
  {
   "cell_type": "code",
   "execution_count": 12,
   "id": "38876402",
   "metadata": {},
   "outputs": [],
   "source": [
    "# Plot hyperplane 3d.\n",
    "def plot_hyperplane_3d(ax, w):\n",
    "    x1 = np.linspace(0, 4, 10)\n",
    "    x2 = np.linspace(0, 4, 10)\n",
    "    a, b = np.meshgrid(x1,x2)\n",
    "    N = x1.size\n",
    "    X = np.array([np.ones(N**2), a.ravel(), b.ravel()]).transpose()\n",
    "    o = X.dot(w)\n",
    "    ax.plot_surface(a, b, np.reshape(o,(N,N)), alpha=0.5,\n",
    "                    linewidth=0, antialiased=True)\n"
   ]
  },
  {
   "cell_type": "code",
   "execution_count": 13,
   "id": "68fab044",
   "metadata": {},
   "outputs": [
    {
     "name": "stderr",
     "output_type": "stream",
     "text": [
      "C:\\Users\\Asus\\AppData\\Local\\Temp/ipykernel_56608/4249916441.py:1: MatplotlibDeprecationWarning: Calling gca() with keyword arguments was deprecated in Matplotlib 3.4. Starting two minor releases later, gca() will take no keyword arguments. The gca() function should only be used to get the current axes, or if no axes exist, create new axes with default keyword arguments. To create a new axes with non-default arguments, use plt.axes() or plt.subplot().\n",
      "  ax = plt.figure().gca(projection='3d')\n"
     ]
    },
    {
     "data": {
      "image/png": "[encoded data removed]",
      "text/plain": [
       "<Figure size 432x288 with 1 Axes>"
      ]
     },
     "metadata": {
      "needs_background": "light"
     },
     "output_type": "display_data"
    }
   ],
   "source": [
    "ax = plt.figure().gca(projection='3d')\n",
    "ax.scatter(X[:,1], X[:,2], Y, color='red')\n",
    "plot_hyperplane_3d(ax, w)"
   ]
  },
  {
   "cell_type": "markdown",
   "id": "64d5e7ae",
   "metadata": {},
   "source": [
    "### P2.4"
   ]
  },
  {
   "cell_type": "code",
   "execution_count": 14,
   "id": "d9fd99ad",
   "metadata": {},
   "outputs": [
    {
     "name": "stdout",
     "output_type": "stream",
     "text": [
      "1.4\n",
      "[0.275 0.02  0.645]\n",
      "[1 1 1]\n",
      "0.5\n",
      "[0.275 0.02  0.645]\n",
      "[1 2 1]\n",
      "2.0\n",
      "[0.275 0.02  0.645]\n",
      "[1 1 3]\n",
      "2.5\n",
      "[0.275 0.02  0.645]\n",
      "[1 3 3]\n",
      "0.13224999999999995\n"
     ]
    }
   ],
   "source": [
    "SSE = []\n",
    "for i in range(4):\n",
    "    print(Y[i])\n",
    "    print(w)\n",
    "    print(X[i,:])\n",
    "    SSE.append((Y[i]-w.dot(X[i,:]))**2)\n",
    "print(np.sum(SSE)/4)"
   ]
  },
  {
   "cell_type": "markdown",
   "id": "9bd17e40",
   "metadata": {},
   "source": [
    "### P3.1"
   ]
  },
  {
   "cell_type": "code",
   "execution_count": 15,
   "id": "a4ff038b",
   "metadata": {},
   "outputs": [
    {
     "name": "stdout",
     "output_type": "stream",
     "text": [
      "[[1.         1.09861229]\n",
      " [1.         1.38629436]\n",
      " [1.         1.79175947]\n",
      " [1.         2.30258509]\n",
      " [1.         2.48490665]] \n",
      "\n",
      " [ 1.5  9.3 23.4 45.8 60.1]\n"
     ]
    }
   ],
   "source": [
    "X=np.array([[1 , np.log(3)] , [1 , np.log(4)] , [1 , np.log(6)] , [1 , np.log(10)] , [1 , np.log(12)]])\n",
    "Y=np.array([1.5 , 9.3 , 23.4 , 45.8 , 60.1])\n",
    "print(X,\"\\n\\n\",Y)"
   ]
  },
  {
   "cell_type": "code",
   "execution_count": 16,
   "id": "524c2cea",
   "metadata": {},
   "outputs": [
    {
     "name": "stdout",
     "output_type": "stream",
     "text": [
      "[-47.02119784  41.39446763]\n"
     ]
    }
   ],
   "source": [
    "w= np.matmul(np.matmul(np.linalg.inv(np.matmul(X.T,X)),X.T),Y.T)\n",
    "print(w)"
   ]
  },
  {
   "cell_type": "markdown",
   "id": "ab64a070",
   "metadata": {},
   "source": [
    "### P3.2"
   ]
  },
  {
   "cell_type": "code",
   "execution_count": 17,
   "id": "93a4ac67",
   "metadata": {},
   "outputs": [
    {
     "name": "stdout",
     "output_type": "stream",
     "text": [
      "[[  1   9]\n",
      " [  1  16]\n",
      " [  1  36]\n",
      " [  1 100]\n",
      " [  1 144]]\n"
     ]
    }
   ],
   "source": [
    "phi = np.array([[1 , np.power(3,2)] , [1 , np.power(4,2)] , [1 , np.power(6,2)] , [1 , np.power(10,2)] , [1 , np.power(12,2)]])\n",
    "print(phi)"
   ]
  },
  {
   "cell_type": "code",
   "execution_count": 18,
   "id": "8ac4c7b8",
   "metadata": {},
   "outputs": [
    {
     "name": "stdout",
     "output_type": "stream",
     "text": [
      "[2.78947108 0.41361523]\n"
     ]
    }
   ],
   "source": [
    "w_phi= np.matmul(np.matmul(np.linalg.inv(np.matmul(phi.T,phi)),phi.T),Y.T)\n",
    "print(w_phi)"
   ]
  },
  {
   "cell_type": "markdown",
   "id": "cd6f1dd3",
   "metadata": {},
   "source": [
    "### P3.3"
   ]
  },
  {
   "cell_type": "code",
   "execution_count": 19,
   "id": "ee79bc6b",
   "metadata": {},
   "outputs": [],
   "source": [
    "# Plot hyperplane 2d.\n",
    "def plot_hyperplane_2dlog(w):\n",
    "    x = np.linspace(2, 13)\n",
    "    plt.plot(x, w[0] + w[1]*np.log(x), 'b-')"
   ]
  },
  {
   "cell_type": "code",
   "execution_count": 20,
   "id": "ac3e3d00",
   "metadata": {},
   "outputs": [],
   "source": [
    "# Plot hyperplane 2d.\n",
    "def plot_hyperplane_2dsqr(w):\n",
    "    x = np.linspace(2, 13)\n",
    "    plt.plot(x, w[0] + w[1]*(x**2), 'y-')"
   ]
  },
  {
   "cell_type": "code",
   "execution_count": 21,
   "id": "426cfa29",
   "metadata": {},
   "outputs": [
    {
     "data": {
      "image/png": "[encoded data removed]",
      "text/plain": [
       "<Figure size 432x288 with 1 Axes>"
      ]
     },
     "metadata": {
      "needs_background": "light"
     },
     "output_type": "display_data"
    }
   ],
   "source": [
    "X_2fit=np.array([[1 , 3] , [1 , 4] , [1 , 6] , [1 , 10] , [1 , 12]])\n",
    "plt.plot(X_2fit[:,1],Y, 'r.')\n",
    "plot_hyperplane_2dlog(w)\n",
    "plot_hyperplane_2dsqr(w_phi)"
   ]
  },
  {
   "cell_type": "markdown",
   "id": "74342841",
   "metadata": {},
   "source": [
    "### P3.4"
   ]
  },
  {
   "cell_type": "code",
   "execution_count": 22,
   "id": "bf547d5a",
   "metadata": {},
   "outputs": [
    {
     "name": "stdout",
     "output_type": "stream",
     "text": [
      "1.5\n",
      "[-47.02119784  41.39446763]\n",
      "[1.         1.09861229]\n",
      "9.3\n",
      "[-47.02119784  41.39446763]\n",
      "[1.         1.38629436]\n",
      "23.4\n",
      "[-47.02119784  41.39446763]\n",
      "[1.         1.79175947]\n",
      "45.8\n",
      "[-47.02119784  41.39446763]\n",
      "[1.         2.30258509]\n",
      "60.1\n",
      "[-47.02119784  41.39446763]\n",
      "[1.         2.48490665]\n",
      "9.761762531440937\n",
      "13.127301249636734\n"
     ]
    }
   ],
   "source": [
    "SSE_sqrt = []\n",
    "SSE_log = []\n",
    "for i in range(5):\n",
    "    print(Y[i])\n",
    "    print(w)\n",
    "    print(X[i,:])\n",
    "    SSE_log.append((Y[i]-w.dot(X[i,:]))**2)\n",
    "    SSE_sqrt.append((Y[i]-w_phi.dot(phi[i,:]))**2)\n",
    "print(np.sum(SSE_log)/5)\n",
    "print(np.sum(SSE_sqrt)/5)"
   ]
  },
  {
   "cell_type": "markdown",
   "id": "74d73aa2",
   "metadata": {},
   "source": [
    "Logaritmic function has a lower SSE, so it will be better"
   ]
  },
  {
   "cell_type": "markdown",
   "id": "90c9942d",
   "metadata": {},
   "source": [
    "### P4.1"
   ]
  },
  {
   "cell_type": "code",
   "execution_count": 23,
   "id": "9a00b361",
   "metadata": {},
   "outputs": [],
   "source": [
    "def sigmoid(entry):\n",
    "    probs = 1/(1 + np.exp(-inputs.dot(w)))\n",
    "    gradient = inputs.T.dot(probs - labels)\n",
    "    w -= eta * gradient"
   ]
  },
  {
   "cell_type": "markdown",
   "id": "f8cf71da",
   "metadata": {},
   "source": [
    "### P4.2"
   ]
  },
  {
   "cell_type": "code",
   "execution_count": 26,
   "id": "f2237433",
   "metadata": {},
   "outputs": [],
   "source": [
    "X=np.array([[-1 , 0 ] , [0 , 0.25 ] , [1 , 1 ] , [1 , -1]])\n",
    "labels=np.array([0 , 1 , 1 , 0])\n",
    "w= np.array([0,0,0])\n",
    "eta=1.0\n",
    "X = np.concatenate([np.ones((num_examples, 1)), X], axis=1)"
   ]
  },
  {
   "cell_type": "code",
   "execution_count": 27,
   "id": "34e6ffd5",
   "metadata": {},
   "outputs": [
    {
     "ename": "ValueError",
     "evalue": "matmul: Input operand 1 has a mismatch in its core dimension 0, with gufunc signature (n?,k),(k,m?)->(n?,m?) (size 2 is different from 3)",
     "output_type": "error",
     "traceback": [
      "\u001b[1;31m---------------------------------------------------------------------------\u001b[0m",
      "\u001b[1;31mValueError\u001b[0m                                Traceback (most recent call last)",
      "\u001b[1;32m~\\AppData\\Local\\Temp/ipykernel_56608/1761263421.py\u001b[0m in \u001b[0;36m<module>\u001b[1;34m\u001b[0m\n\u001b[1;32m----> 1\u001b[1;33m \u001b[0mw\u001b[0m \u001b[1;33m=\u001b[0m \u001b[0mw\u001b[0m\u001b[1;33m+\u001b[0m \u001b[0mnp\u001b[0m\u001b[1;33m.\u001b[0m\u001b[0mmatmul\u001b[0m\u001b[1;33m(\u001b[0m\u001b[0meta\u001b[0m\u001b[1;33m,\u001b[0m\u001b[0mnp\u001b[0m\u001b[1;33m.\u001b[0m\u001b[0mmatmul\u001b[0m\u001b[1;33m(\u001b[0m\u001b[0mX\u001b[0m\u001b[1;33m[\u001b[0m\u001b[1;36m1\u001b[0m\u001b[1;33m]\u001b[0m\u001b[1;33m,\u001b[0m\u001b[0mnp\u001b[0m\u001b[1;33m.\u001b[0m\u001b[0mmatmul\u001b[0m\u001b[1;33m(\u001b[0m\u001b[0mY\u001b[0m\u001b[1;33m[\u001b[0m\u001b[1;36m1\u001b[0m\u001b[1;33m]\u001b[0m \u001b[1;33m-\u001b[0m \u001b[0msigmoid\u001b[0m\u001b[1;33m(\u001b[0m\u001b[0mnp\u001b[0m\u001b[1;33m.\u001b[0m\u001b[0mmatmul\u001b[0m\u001b[1;33m(\u001b[0m\u001b[0mw\u001b[0m\u001b[1;33m,\u001b[0m\u001b[0mX\u001b[0m\u001b[1;33m[\u001b[0m\u001b[1;36m1\u001b[0m\u001b[1;33m]\u001b[0m\u001b[1;33m)\u001b[0m\u001b[1;33m)\u001b[0m\u001b[1;33m)\u001b[0m\u001b[1;33m)\u001b[0m\u001b[1;33m)\u001b[0m \u001b[1;33m+\u001b[0m \u001b[1;33m...\u001b[0m\u001b[1;33m\u001b[0m\u001b[1;33m\u001b[0m\u001b[0m\n\u001b[0m",
      "\u001b[1;31mValueError\u001b[0m: matmul: Input operand 1 has a mismatch in its core dimension 0, with gufunc signature (n?,k),(k,m?)->(n?,m?) (size 2 is different from 3)"
     ]
    }
   ],
   "source": [
    "w = w+ np.matmul(eta,np.matmul(X[1],np.matmul(Y[1] - sigmoid(np.matmul(w,X[1]))))) + ..."
   ]
  },
  {
   "cell_type": "markdown",
   "id": "3ca19fd4",
   "metadata": {},
   "source": [
    "### P4.3"
   ]
  },
  {
   "cell_type": "code",
   "execution_count": 81,
   "id": "3dab0ec4",
   "metadata": {},
   "outputs": [
    {
     "ename": "NameError",
     "evalue": "name 'eta' is not defined",
     "output_type": "error",
     "traceback": [
      "\u001b[1;31m---------------------------------------------------------------------------\u001b[0m",
      "\u001b[1;31mNameError\u001b[0m                                 Traceback (most recent call last)",
      "\u001b[1;32m~\\AppData\\Local\\Temp/ipykernel_47244/1214228145.py\u001b[0m in \u001b[0;36m<module>\u001b[1;34m\u001b[0m\n\u001b[1;32m----> 1\u001b[1;33m \u001b[0mw\u001b[0m \u001b[1;33m=\u001b[0m \u001b[0mw\u001b[0m\u001b[1;33m+\u001b[0m \u001b[0mnp\u001b[0m\u001b[1;33m.\u001b[0m\u001b[0mmatmul\u001b[0m\u001b[1;33m(\u001b[0m\u001b[0meta\u001b[0m\u001b[1;33m,\u001b[0m\u001b[0mnp\u001b[0m\u001b[1;33m.\u001b[0m\u001b[0mmatmul\u001b[0m\u001b[1;33m(\u001b[0m\u001b[0mX\u001b[0m\u001b[1;33m,\u001b[0m\u001b[0mnp\u001b[0m\u001b[1;33m.\u001b[0m\u001b[0mmatmul\u001b[0m\u001b[1;33m(\u001b[0m\u001b[0mY\u001b[0m \u001b[1;33m-\u001b[0m \u001b[0msigmoid\u001b[0m\u001b[1;33m(\u001b[0m\u001b[0mnp\u001b[0m\u001b[1;33m.\u001b[0m\u001b[0mmatmul\u001b[0m\u001b[1;33m(\u001b[0m\u001b[0mw\u001b[0m\u001b[1;33m,\u001b[0m\u001b[0mX\u001b[0m\u001b[1;33m)\u001b[0m\u001b[1;33m)\u001b[0m\u001b[1;33m)\u001b[0m\u001b[1;33m)\u001b[0m\u001b[1;33m)\u001b[0m\u001b[1;33m\u001b[0m\u001b[1;33m\u001b[0m\u001b[0m\n\u001b[0m",
      "\u001b[1;31mNameError\u001b[0m: name 'eta' is not defined"
     ]
    }
   ],
   "source": [
    "w = w+ np.matmul(eta,np.matmul(X,np.matmul(Y - sigmoid(np.matmul(w,X)))))"
   ]
  },
  {
   "cell_type": "markdown",
   "id": "3d378f8c",
   "metadata": {},
   "source": [
    "### P5.1"
   ]
  },
  {
   "cell_type": "code",
   "execution_count": 82,
   "id": "e69a0578",
   "metadata": {},
   "outputs": [],
   "source": [
    "from sklearn.datasets import load_digits\n",
    "from sklearn.model_selection import train_test_split\n"
   ]
  },
  {
   "cell_type": "code",
   "execution_count": 83,
   "id": "483fef69",
   "metadata": {},
   "outputs": [
    {
     "name": "stdout",
     "output_type": "stream",
     "text": [
      ".. _digits_dataset:\n",
      "\n",
      "Optical recognition of handwritten digits dataset\n",
      "--------------------------------------------------\n",
      "\n",
      "**Data Set Characteristics:**\n",
      "\n",
      "    :Number of Instances: 1797\n",
      "    :Number of Attributes: 64\n",
      "    :Attribute Information: 8x8 image of integer pixels in the range 0..16.\n",
      "    :Missing Attribute Values: None\n",
      "    :Creator: E. Alpaydin (alpaydin '@' boun.edu.tr)\n",
      "    :Date: July; 1998\n",
      "\n",
      "This is a copy of the test set of the UCI ML hand-written digits datasets\n",
      "https://archive.ics.uci.edu/ml/datasets/Optical+Recognition+of+Handwritten+Digits\n",
      "\n",
      "The data set contains images of hand-written digits: 10 classes where\n",
      "each class refers to a digit.\n",
      "\n",
      "Preprocessing programs made available by NIST were used to extract\n",
      "normalized bitmaps of handwritten digits from a preprinted form. From a\n",
      "total of 43 people, 30 contributed to the training set and different 13\n",
      "to the test set. 32x32 bitmaps are divided into nonoverlapping blocks of\n",
      "4x4 and the number of on pixels are counted in each block. This generates\n",
      "an input matrix of 8x8 where each element is an integer in the range\n",
      "0..16. This reduces dimensionality and gives invariance to small\n",
      "distortions.\n",
      "\n",
      "For info on NIST preprocessing routines, see M. D. Garris, J. L. Blue, G.\n",
      "T. Candela, D. L. Dimmick, J. Geist, P. J. Grother, S. A. Janet, and C.\n",
      "L. Wilson, NIST Form-Based Handprint Recognition System, NISTIR 5469,\n",
      "1994.\n",
      "\n",
      ".. topic:: References\n",
      "\n",
      "  - C. Kaynak (1995) Methods of Combining Multiple Classifiers and Their\n",
      "    Applications to Handwritten Digit Recognition, MSc Thesis, Institute of\n",
      "    Graduate Studies in Science and Engineering, Bogazici University.\n",
      "  - E. Alpaydin, C. Kaynak (1998) Cascading Classifiers, Kybernetika.\n",
      "  - Ken Tang and Ponnuthurai N. Suganthan and Xi Yao and A. Kai Qin.\n",
      "    Linear dimensionalityreduction using relevance weighted LDA. School of\n",
      "    Electrical and Electronic Engineering Nanyang Technological University.\n",
      "    2005.\n",
      "  - Claudio Gentile. A New Approximate Maximal Margin Classification\n",
      "    Algorithm. NIPS. 2000.\n",
      "\n"
     ]
    },
    {
     "ename": "AttributeError",
     "evalue": "labels",
     "output_type": "error",
     "traceback": [
      "\u001b[1;31m---------------------------------------------------------------------------\u001b[0m",
      "\u001b[1;31mKeyError\u001b[0m                                  Traceback (most recent call last)",
      "\u001b[1;32m~\\anaconda3\\envs\\Aprof\\lib\\site-packages\\sklearn\\utils\\__init__.py\u001b[0m in \u001b[0;36m__getattr__\u001b[1;34m(self, key)\u001b[0m\n\u001b[0;32m    116\u001b[0m         \u001b[1;32mtry\u001b[0m\u001b[1;33m:\u001b[0m\u001b[1;33m\u001b[0m\u001b[1;33m\u001b[0m\u001b[0m\n\u001b[1;32m--> 117\u001b[1;33m             \u001b[1;32mreturn\u001b[0m \u001b[0mself\u001b[0m\u001b[1;33m[\u001b[0m\u001b[0mkey\u001b[0m\u001b[1;33m]\u001b[0m\u001b[1;33m\u001b[0m\u001b[1;33m\u001b[0m\u001b[0m\n\u001b[0m\u001b[0;32m    118\u001b[0m         \u001b[1;32mexcept\u001b[0m \u001b[0mKeyError\u001b[0m\u001b[1;33m:\u001b[0m\u001b[1;33m\u001b[0m\u001b[1;33m\u001b[0m\u001b[0m\n",
      "\u001b[1;31mKeyError\u001b[0m: 'labels'",
      "\nDuring handling of the above exception, another exception occurred:\n",
      "\u001b[1;31mAttributeError\u001b[0m                            Traceback (most recent call last)",
      "\u001b[1;32m~\\AppData\\Local\\Temp/ipykernel_47244/3916289047.py\u001b[0m in \u001b[0;36m<module>\u001b[1;34m\u001b[0m\n\u001b[0;32m      2\u001b[0m \u001b[0mprint\u001b[0m\u001b[1;33m(\u001b[0m\u001b[0mdata\u001b[0m\u001b[1;33m.\u001b[0m\u001b[0mDESCR\u001b[0m\u001b[1;33m)\u001b[0m\u001b[1;33m\u001b[0m\u001b[1;33m\u001b[0m\u001b[0m\n\u001b[0;32m      3\u001b[0m \u001b[0minputs\u001b[0m \u001b[1;33m=\u001b[0m \u001b[0mdata\u001b[0m\u001b[1;33m.\u001b[0m\u001b[0mdata\u001b[0m\u001b[1;33m\u001b[0m\u001b[1;33m\u001b[0m\u001b[0m\n\u001b[1;32m----> 4\u001b[1;33m \u001b[0mlabels\u001b[0m \u001b[1;33m=\u001b[0m \u001b[0mdata\u001b[0m\u001b[1;33m.\u001b[0m\u001b[0mlabels\u001b[0m\u001b[1;33m\u001b[0m\u001b[1;33m\u001b[0m\u001b[0m\n\u001b[0m",
      "\u001b[1;32m~\\anaconda3\\envs\\Aprof\\lib\\site-packages\\sklearn\\utils\\__init__.py\u001b[0m in \u001b[0;36m__getattr__\u001b[1;34m(self, key)\u001b[0m\n\u001b[0;32m    117\u001b[0m             \u001b[1;32mreturn\u001b[0m \u001b[0mself\u001b[0m\u001b[1;33m[\u001b[0m\u001b[0mkey\u001b[0m\u001b[1;33m]\u001b[0m\u001b[1;33m\u001b[0m\u001b[1;33m\u001b[0m\u001b[0m\n\u001b[0;32m    118\u001b[0m         \u001b[1;32mexcept\u001b[0m \u001b[0mKeyError\u001b[0m\u001b[1;33m:\u001b[0m\u001b[1;33m\u001b[0m\u001b[1;33m\u001b[0m\u001b[0m\n\u001b[1;32m--> 119\u001b[1;33m             \u001b[1;32mraise\u001b[0m \u001b[0mAttributeError\u001b[0m\u001b[1;33m(\u001b[0m\u001b[0mkey\u001b[0m\u001b[1;33m)\u001b[0m\u001b[1;33m\u001b[0m\u001b[1;33m\u001b[0m\u001b[0m\n\u001b[0m\u001b[0;32m    120\u001b[0m \u001b[1;33m\u001b[0m\u001b[0m\n\u001b[0;32m    121\u001b[0m     \u001b[1;32mdef\u001b[0m \u001b[0m__setstate__\u001b[0m\u001b[1;33m(\u001b[0m\u001b[0mself\u001b[0m\u001b[1;33m,\u001b[0m \u001b[0mstate\u001b[0m\u001b[1;33m)\u001b[0m\u001b[1;33m:\u001b[0m\u001b[1;33m\u001b[0m\u001b[1;33m\u001b[0m\u001b[0m\n",
      "\u001b[1;31mAttributeError\u001b[0m: labels"
     ]
    }
   ],
   "source": [
    "data = load_digits()\n",
    "print(data.DESCR)\n",
    "inputs = data.data\n",
    "labels = data.labels"
   ]
  },
  {
   "cell_type": "code",
   "execution_count": null,
   "id": "9c35119e",
   "metadata": {},
   "outputs": [],
   "source": [
    "X_train, X_test, y_train, y_test = train_test_split(inputs,labels,test_size=0.2,)"
   ]
  }
 ],
 "metadata": {
  "kernelspec": {
   "display_name": "Python [conda env:Aprof] *",
   "language": "python",
   "name": "conda-env-Aprof-py"
  },
  "language_info": {
   "codemirror_mode": {
    "name": "ipython",
    "version": 3
   },
   "file_extension": ".py",
   "mimetype": "text/x-python",
   "name": "python",
   "nbconvert_exporter": "python",
   "pygments_lexer": "ipython3",
   "version": "3.8.12"
  }
 },
 "nbformat": 4,
 "nbformat_minor": 5
}
